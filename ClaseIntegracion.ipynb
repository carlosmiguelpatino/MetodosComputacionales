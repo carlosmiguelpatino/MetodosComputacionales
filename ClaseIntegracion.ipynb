{
 "metadata": {
  "name": ""
 },
 "nbformat": 3,
 "nbformat_minor": 0,
 "worksheets": [
  {
   "cells": [
    {
     "cell_type": "code",
     "collapsed": false,
     "input": [
      "%pylab inline"
     ],
     "language": "python",
     "metadata": {},
     "outputs": [
      {
       "output_type": "stream",
       "stream": "stdout",
       "text": [
        "Populating the interactive namespace from numpy and matplotlib\n"
       ]
      }
     ],
     "prompt_number": 3
    },
    {
     "cell_type": "code",
     "collapsed": false,
     "input": [
      "n_points = 10\n",
      "x = linspace(3, 12, n_points)\n",
      "y = x**2 -8*x + 24"
     ],
     "language": "python",
     "metadata": {},
     "outputs": [],
     "prompt_number": 4
    },
    {
     "cell_type": "code",
     "collapsed": false,
     "input": [
      "y[1:] + y[0:-1]"
     ],
     "language": "python",
     "metadata": {},
     "outputs": [
      {
       "metadata": {},
       "output_type": "pyout",
       "prompt_number": 7,
       "text": [
        "array([  17.,   17.,   21.,   29.,   41.,   57.,   77.,  101.,  129.])"
       ]
      }
     ],
     "prompt_number": 7
    },
    {
     "cell_type": "code",
     "collapsed": false,
     "input": [
      "def trapz_vec(x,y):\n",
      "    \n",
      "    return sum(0.5*(y[1:] + y[0:-1])*(x[1:] - x[0:-1]))\n",
      "    \n",
      "trapz_vec(x,y)\n",
      "    "
     ],
     "language": "python",
     "metadata": {},
     "outputs": [
      {
       "metadata": {},
       "output_type": "pyout",
       "prompt_number": 5,
       "text": [
        "244.5"
       ]
      }
     ],
     "prompt_number": 5
    },
    {
     "cell_type": "code",
     "collapsed": false,
     "input": [
      "def trapz_slow(x, y):\n",
      "    area = 0.\n",
      "    for i in range(1, len(x)):\n",
      "        area += (x[i] - x[i-1]) * (y[i] + y[i-1])\n",
      "    return area / 2\n",
      "print trapz_slow(x,y)"
     ],
     "language": "python",
     "metadata": {},
     "outputs": [
      {
       "output_type": "stream",
       "stream": "stdout",
       "text": [
        "244.5\n"
       ]
      }
     ],
     "prompt_number": 6
    },
    {
     "cell_type": "code",
     "collapsed": false,
     "input": [
      "#vector de valores n_points\n",
      "n_vec = [10, 100, 1000, 10000, 100000, 1000000]\n",
      "valor_exacto = 243.0\n",
      "err = []\n",
      "\n",
      "#calcular la integral con trap_vec\n",
      "for i in n_vec:\n",
      "    x = linspace(3,12,i)\n",
      "    y = x**2 -8*x + 24\n",
      "    err.append(valor_exacto-trapz_vec(x,y))\n",
      "    \n",
      "print err\n",
      "\n"
     ],
     "language": "python",
     "metadata": {},
     "outputs": [
      {
       "output_type": "stream",
       "stream": "stdout",
       "text": [
        "[-1.5, -0.012396694214857007, -0.00012174336490033966, -1.2152425767908426e-06, -1.2149143913120497e-08, -1.1974066183029208e-10]\n"
       ]
      }
     ],
     "prompt_number": 8
    },
    {
     "cell_type": "code",
     "collapsed": false,
     "input": [
      "#integracion con scipy\n",
      "from scipy.integrate import quad,romberg\n",
      "def y_func(x):\n",
      "    return x**2 - 8*x +24\n",
      "quad(y_func,3,12)\n",
      "romberg(y_func,3,12)"
     ],
     "language": "python",
     "metadata": {},
     "outputs": [
      {
       "metadata": {},
       "output_type": "pyout",
       "prompt_number": 13,
       "text": [
        "243.0"
       ]
      }
     ],
     "prompt_number": 13
    },
    {
     "cell_type": "code",
     "collapsed": false,
     "input": [],
     "language": "python",
     "metadata": {},
     "outputs": []
    }
   ],
   "metadata": {}
  }
 ]
}