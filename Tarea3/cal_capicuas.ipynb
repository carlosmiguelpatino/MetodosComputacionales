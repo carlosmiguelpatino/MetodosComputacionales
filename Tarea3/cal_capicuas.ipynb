{
 "metadata": {
  "name": "",
  "signature": "sha256:5003194b71542d0dc489f3c44991fa84e9ad398de478164c83941e840a791eeb"
 },
 "nbformat": 3,
 "nbformat_minor": 0,
 "worksheets": [
  {
   "cells": [
    {
     "cell_type": "heading",
     "level": 1,
     "metadata": {},
     "source": [
      "C\u00e1lculo de Capic\u00faas"
     ]
    },
    {
     "cell_type": "code",
     "collapsed": false,
     "input": [
      "%pylab inline"
     ],
     "language": "python",
     "metadata": {},
     "outputs": [
      {
       "output_type": "stream",
       "stream": "stdout",
       "text": [
        "Populating the interactive namespace from numpy and matplotlib\n"
       ]
      }
     ],
     "prompt_number": 51
    },
    {
     "cell_type": "heading",
     "level": 3,
     "metadata": {},
     "source": [
      "Inizcializacion de las listas."
     ]
    },
    {
     "cell_type": "markdown",
     "metadata": {},
     "source": [
      "Se llena lista con los n\u00fameros de 9 d\u00edgitos. Antes de agregarlos a la lista, los n\u00fameros se convierten a strings para poder comparar su caracteres"
     ]
    },
    {
     "cell_type": "code",
     "collapsed": false,
     "input": [
      "capicuas = []\n",
      "lista = []\n",
      "for i in range(100000000, 1000000000):\n",
      "    a = str(i)\n",
      "    lista.append(a)   \n",
      "\n"
     ],
     "language": "python",
     "metadata": {},
     "outputs": [],
     "prompt_number": 60
    },
    {
     "cell_type": "heading",
     "level": 3,
     "metadata": {},
     "source": [
      "B\u00fasqueda de Capic\u00faas"
     ]
    },
    {
     "cell_type": "markdown",
     "metadata": {},
     "source": [
      "Se hace el calculo de las capicuas comparando los valores de cada uno de los caracteres. Si el n\u00famero es un capic\u00faa, se agrega a la lista de capic\u00faas."
     ]
    },
    {
     "cell_type": "code",
     "collapsed": false,
     "input": [
      "for j in range(0, len(lista)):\n",
      "    numero = lista[j]\n",
      "    l = 0\n",
      "    condicion = True\n",
      "    for l in range(len(numero)):\n",
      "        if numero[l] != numero[len(numero)-(l+1)]:\n",
      "            condicion = False     \n",
      "        \n",
      "    if condicion:\n",
      "        capicuas.append(numero)\n",
      "        \n",
      "        "
     ],
     "language": "python",
     "metadata": {},
     "outputs": [],
     "prompt_number": 61
    },
    {
     "cell_type": "heading",
     "level": 3,
     "metadata": {},
     "source": [
      "Lista de Capic\u00faas"
     ]
    },
    {
     "cell_type": "code",
     "collapsed": false,
     "input": [
      "print \"El n\u00famero de capic\u00faas es\", len(capicuas)\n",
      "print capicuas "
     ],
     "language": "python",
     "metadata": {},
     "outputs": [
      {
       "output_type": "stream",
       "stream": "stdout",
       "text": [
        "El n\u00famero de capic\u00faas es 90\n",
        "['101', '111', '121', '131', '141', '151', '161', '171', '181', '191', '202', '212', '222', '232', '242', '252', '262', '272', '282', '292', '303', '313', '323', '333', '343', '353', '363', '373', '383', '393', '404', '414', '424', '434', '444', '454', '464', '474', '484', '494', '505', '515', '525', '535', '545', '555', '565', '575', '585', '595', '606', '616', '626', '636', '646', '656', '666', '676', '686', '696', '707', '717', '727', '737', '747', '757', '767', '777', '787', '797', '808', '818', '828', '838', '848', '858', '868', '878', '888', '898', '909', '919', '929', '939', '949', '959', '969', '979', '989', '999']\n"
       ]
      }
     ],
     "prompt_number": 62
    },
    {
     "cell_type": "heading",
     "level": 3,
     "metadata": {},
     "source": [
      "Capicuas en Binario"
     ]
    },
    {
     "cell_type": "code",
     "collapsed": false,
     "input": [
      "capicuasbin = []\n",
      "for i in range(len(capicuas)):\n",
      "    numero = int(capicuas[i])\n",
      "    numerobin = bin(numero)[2:]\n",
      "    condicion = True\n",
      "    for l in range(len(numerobin)):\n",
      "        if numerobin[l] != numerobin[len(numerobin)-(l+1)]:\n",
      "            condicion = False     \n",
      "        \n",
      "    if condicion:\n",
      "        capicuas.append(numerobin)\n",
      "if len(capicuasbin) == 0:\n",
      "    print \"Ningun capicua de nueve digitos tambien es un capicua en binario\"\n",
      "else:\n",
      "    print \"El n\u00famero de capic\u00faas que tambien es capicua en binario es\", len(capicuasbin)\n",
      "    print capicuasbin\n",
      "\n",
      "    "
     ],
     "language": "python",
     "metadata": {},
     "outputs": [
      {
       "output_type": "stream",
       "stream": "stdout",
       "text": [
        "Ningun capicua de nueve digitos tambien es un capicua en binario\n"
       ]
      }
     ],
     "prompt_number": 63
    },
    {
     "cell_type": "heading",
     "level": 3,
     "metadata": {},
     "source": [
      "Texto pal\u00edndromo"
     ]
    },
    {
     "cell_type": "code",
     "collapsed": false,
     "input": [
      "texto = \"-asdsa\"\n",
      "texto = texto.replace(\" \", \"\")\n",
      "#Se remueven caracteres probables que no son alfanumericos\n",
      "texto = texto.translate(None, \"\u00bf?\u00a1!.,-\")\n",
      "\n",
      "#Se remueven \n",
      "if texto.isalnum() != True:\n",
      "    for i in range(len(texto)):\n",
      "        charac = texto[i]\n",
      "        if charac.isalnum() != True:\n",
      "            \n",
      "    \n",
      "    \n",
      "    \n",
      "    \n",
      "condicion = True    \n",
      "for l in range(len(texto)):\n",
      "    if texto[l] != texto[len(texto)-(l+1)]:\n",
      "        condicion = False\n",
      "\n",
      "if condicion:\n",
      "    print \"El texto es un palindromo\"\n",
      "else:\n",
      "    print \"El texto no es un palindromo\"\n",
      "\n"
     ],
     "language": "python",
     "metadata": {},
     "outputs": [
      {
       "output_type": "stream",
       "stream": "stdout",
       "text": [
        "good\n",
        "El texto no es un palindromo\n"
       ]
      }
     ],
     "prompt_number": 35
    },
    {
     "cell_type": "code",
     "collapsed": false,
     "input": [
      "string = \"\u00e1\"\n",
      "string.translate(\"a\",\"\u00e1\")\n",
      "print string"
     ],
     "language": "python",
     "metadata": {},
     "outputs": [
      {
       "ename": "ValueError",
       "evalue": "translation table must be 256 characters long",
       "output_type": "pyerr",
       "traceback": [
        "\u001b[1;31m---------------------------------------------------------------------------\u001b[0m\n\u001b[1;31mValueError\u001b[0m                                Traceback (most recent call last)",
        "\u001b[1;32m<ipython-input-4-5648acc701fd>\u001b[0m in \u001b[0;36m<module>\u001b[1;34m()\u001b[0m\n\u001b[0;32m      1\u001b[0m \u001b[0mstring\u001b[0m \u001b[1;33m=\u001b[0m \u001b[1;34m\"\u00e1\"\u001b[0m\u001b[1;33m\u001b[0m\u001b[0m\n\u001b[1;32m----> 2\u001b[1;33m \u001b[0mstring\u001b[0m\u001b[1;33m.\u001b[0m\u001b[0mtranslate\u001b[0m\u001b[1;33m(\u001b[0m\u001b[1;34m'a'\u001b[0m\u001b[1;33m,\u001b[0m\u001b[1;34m'\u00e1'\u001b[0m\u001b[1;33m)\u001b[0m\u001b[1;33m\u001b[0m\u001b[0m\n\u001b[0m\u001b[0;32m      3\u001b[0m \u001b[1;32mprint\u001b[0m \u001b[0mstring\u001b[0m\u001b[1;33m\u001b[0m\u001b[0m\n",
        "\u001b[1;31mValueError\u001b[0m: translation table must be 256 characters long"
       ]
      }
     ],
     "prompt_number": 4
    }
   ],
   "metadata": {}
  }
 ]
}