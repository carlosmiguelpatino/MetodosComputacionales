{
 "metadata": {
  "name": "",
  "signature": "sha256:fd312818480fcdb48ca8fcdb2e27b1c98befb3b116cceeac6da1b43e27617d75"
 },
 "nbformat": 3,
 "nbformat_minor": 0,
 "worksheets": [
  {
   "cells": [
    {
     "cell_type": "heading",
     "level": 1,
     "metadata": {},
     "source": [
      "C\u00e1lculo de Capic\u00faas"
     ]
    },
    {
     "cell_type": "code",
     "collapsed": false,
     "input": [
      "%pylab inline\n",
      "import unicodedata"
     ],
     "language": "python",
     "metadata": {},
     "outputs": [
      {
       "output_type": "stream",
       "stream": "stdout",
       "text": [
        "Populating the interactive namespace from numpy and matplotlib\n"
       ]
      }
     ],
     "prompt_number": 144
    },
    {
     "cell_type": "heading",
     "level": 3,
     "metadata": {},
     "source": [
      "Inizcializacion de las listas."
     ]
    },
    {
     "cell_type": "markdown",
     "metadata": {},
     "source": [
      "Se llena lista con los n\u00fameros de 9 d\u00edgitos. Antes de agregarlos a la lista, los n\u00fameros se convierten a strings para poder comparar su caracteres. (Las pruebas que aparecen en el notebook se hicieron para capicuas de 4 digitos por problemas de memoria al hacerlo con 9 d\u00edgitos)"
     ]
    },
    {
     "cell_type": "code",
     "collapsed": false,
     "input": [
      "capicuas = []\n",
      "lista = []\n",
      "for i in range(100000000, 1000000000):\n",
      "    a = str(i)\n",
      "    lista.append(a)   \n",
      "\n"
     ],
     "language": "python",
     "metadata": {},
     "outputs": [],
     "prompt_number": 145
    },
    {
     "cell_type": "heading",
     "level": 3,
     "metadata": {},
     "source": [
      "B\u00fasqueda de Capic\u00faas"
     ]
    },
    {
     "cell_type": "markdown",
     "metadata": {},
     "source": [
      "Se hace el calculo de las capicuas comparando los valores de cada uno de los caracteres. Si el n\u00famero es un capic\u00faa, se agrega a la lista de capic\u00faas."
     ]
    },
    {
     "cell_type": "code",
     "collapsed": false,
     "input": [
      "for j in range(0, len(lista)):\n",
      "    numero = lista[j]\n",
      "    l = 0\n",
      "    condicion = True\n",
      "    for l in range(len(numero)):\n",
      "        if numero[l] != numero[len(numero)-(l+1)]:\n",
      "            condicion = False     \n",
      "        \n",
      "    if condicion:\n",
      "        capicuas.append(numero)\n",
      "        \n",
      "        "
     ],
     "language": "python",
     "metadata": {},
     "outputs": [],
     "prompt_number": 146
    },
    {
     "cell_type": "heading",
     "level": 3,
     "metadata": {},
     "source": [
      "Lista de Capic\u00faas"
     ]
    },
    {
     "cell_type": "code",
     "collapsed": false,
     "input": [
      "print \"El n\u00famero de capic\u00faas es\", len(capicuas)\n",
      "print capicuas "
     ],
     "language": "python",
     "metadata": {},
     "outputs": [
      {
       "output_type": "stream",
       "stream": "stdout",
       "text": [
        "El n\u00famero de capic\u00faas es 90\n",
        "['1001', '1111', '1221', '1331', '1441', '1551', '1661', '1771', '1881', '1991', '2002', '2112', '2222', '2332', '2442', '2552', '2662', '2772', '2882', '2992', '3003', '3113', '3223', '3333', '3443', '3553', '3663', '3773', '3883', '3993', '4004', '4114', '4224', '4334', '4444', '4554', '4664', '4774', '4884', '4994', '5005', '5115', '5225', '5335', '5445', '5555', '5665', '5775', '5885', '5995', '6006', '6116', '6226', '6336', '6446', '6556', '6666', '6776', '6886', '6996', '7007', '7117', '7227', '7337', '7447', '7557', '7667', '7777', '7887', '7997', '8008', '8118', '8228', '8338', '8448', '8558', '8668', '8778', '8888', '8998', '9009', '9119', '9229', '9339', '9449', '9559', '9669', '9779', '9889', '9999']\n"
       ]
      }
     ],
     "prompt_number": 147
    },
    {
     "cell_type": "heading",
     "level": 3,
     "metadata": {},
     "source": [
      "Capicuas en Binario"
     ]
    },
    {
     "cell_type": "code",
     "collapsed": false,
     "input": [
      "capicuasbin = []\n",
      "for i in range(len(capicuas)):\n",
      "    numero = int(capicuas[i])\n",
      "    numerobin = bin(numero)[2:]\n",
      "    condicion = True\n",
      "    for l in range(len(numerobin)):\n",
      "        if numerobin[l] != numerobin[len(numerobin)-(l+1)]:\n",
      "            condicion = False     \n",
      "        \n",
      "    if condicion:\n",
      "        capicuas.append(numerobin)\n",
      "if len(capicuasbin) == 0:\n",
      "    print \"Ningun capicua de nueve digitos tambien es un capicua en binario\"\n",
      "else:\n",
      "    print \"El n\u00famero de capic\u00faas que tambien es capicua en binario es\", len(capicuasbin)\n",
      "    print capicuasbin\n",
      "\n",
      "    "
     ],
     "language": "python",
     "metadata": {},
     "outputs": [
      {
       "output_type": "stream",
       "stream": "stdout",
       "text": [
        "Ningun capicua de nueve digitos tambien es un capicua en binario\n"
       ]
      }
     ],
     "prompt_number": 148
    },
    {
     "cell_type": "heading",
     "level": 3,
     "metadata": {},
     "source": [
      "Texto pal\u00edndromo"
     ]
    },
    {
     "cell_type": "markdown",
     "metadata": {},
     "source": [
      "El palindromo debe estar en un archivo llamado pal\u00edndromo.txt en la misma carpeta de cal_capicuas.ipynb"
     ]
    },
    {
     "cell_type": "code",
     "collapsed": false,
     "input": [
      "textoprocesado = \"\"\n",
      "with open (\"palindromo.txt\", \"r\") as myfile:\n",
      "    texto=myfile.read().replace('\\n', '')\n",
      "    \n",
      "texto = unicode(texto, \"utf-8\")\n",
      "unicodedata.normalize('NFKD', texto).encode('ascii','ignore')\n",
      "\n",
      "    \n",
      "#Se remueven caracteres no alfanumericos que no se incluyen dentro de caracteres probables\n",
      "if texto.isalnum() != True:\n",
      "    for i in range(len(texto)):\n",
      "        charac = texto[i]\n",
      "        if charac.isalnum() == True:\n",
      "            textoprocesado = textoprocesado + charac\n",
      "\n",
      "\n",
      "#Se eliminan los espacios\n",
      "textoprocesado = textoprocesado.lower()\n",
      "           \n",
      "       \n",
      "\n",
      "\n",
      "#Remocion de tildes\n",
      "def elimina_tildes(s):\n",
      "   return ''.join((c for c in unicodedata.normalize('NFD', s) if unicodedata.category(c) != 'Mn'))\n",
      "\n",
      "textoprocesado = elimina_tildes(textoprocesado)\n",
      " \n",
      "\n",
      "\n",
      "   \n",
      "    \n",
      "condicion = True    \n",
      "for l in range(len(textoprocesado)):\n",
      "    if textoprocesado[l] != textoprocesado[len(textoprocesado)-(l+1)]:\n",
      "        condicion = False\n",
      "\n",
      "if condicion:\n",
      "    print \"El texto es un palindromo\"\n",
      "else:\n",
      "    print \"El texto no es un palindromo\"\n",
      "\n"
     ],
     "language": "python",
     "metadata": {},
     "outputs": [
      {
       "output_type": "stream",
       "stream": "stdout",
       "text": [
        "El texto es un palindromo\n"
       ]
      }
     ],
     "prompt_number": 152
    }
   ],
   "metadata": {}
  }
 ]
}