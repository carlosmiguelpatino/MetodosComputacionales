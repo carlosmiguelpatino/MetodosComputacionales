{
 "metadata": {
  "name": "",
  "signature": "sha256:a9af8e1501c6e405fead358d6e554a0fe2dfab1bbbbb01d691953793c58855c8"
 },
 "nbformat": 3,
 "nbformat_minor": 0,
 "worksheets": [
  {
   "cells": [
    {
     "cell_type": "heading",
     "level": 1,
     "metadata": {},
     "source": [
      "C\u00e1lculo de Capic\u00faas"
     ]
    },
    {
     "cell_type": "code",
     "collapsed": false,
     "input": [
      "%pylab inline\n",
      "import unicodedata"
     ],
     "language": "python",
     "metadata": {},
     "outputs": [
      {
       "output_type": "stream",
       "stream": "stdout",
       "text": [
        "Populating the interactive namespace from numpy and matplotlib\n"
       ]
      }
     ],
     "prompt_number": 1
    },
    {
     "cell_type": "heading",
     "level": 3,
     "metadata": {},
     "source": [
      "Inizcializacion de las listas."
     ]
    },
    {
     "cell_type": "markdown",
     "metadata": {},
     "source": [
      "Se llena lista con los n\u00fameros de 9 d\u00edgitos. Antes de agregarlos a la lista, los n\u00fameros se convierten a strings para poder comparar su caracteres. (Las pruebas que aparecen en el notebook se hicieron para capicuas de 4 digitos por problemas de memoria al hacerlo con 9 d\u00edgitos)"
     ]
    },
    {
     "cell_type": "code",
     "collapsed": false,
     "input": [
      "capicuas = []\n",
      "lista = []\n",
      "for i in range(1000000000, 10000000000):\n",
      "    a = str(i)\n",
      "    lista.append(a)   \n",
      "\n"
     ],
     "language": "python",
     "metadata": {},
     "outputs": [],
     "prompt_number": 2
    },
    {
     "cell_type": "heading",
     "level": 3,
     "metadata": {},
     "source": [
      "B\u00fasqueda de Capic\u00faas"
     ]
    },
    {
     "cell_type": "markdown",
     "metadata": {},
     "source": [
      "Se hace el calculo de las capicuas comparando los valores de cada uno de los caracteres. Si el n\u00famero es un capic\u00faa, se agrega a la lista de capic\u00faas."
     ]
    },
    {
     "cell_type": "code",
     "collapsed": false,
     "input": [
      "for j in range(0, len(lista)):\n",
      "    numero = lista[j]\n",
      "    l = 0\n",
      "    condicion = True\n",
      "    for l in range(len(numero)):\n",
      "        if numero[l] != numero[len(numero)-(l+1)]:\n",
      "            condicion = False     \n",
      "        \n",
      "    if condicion:\n",
      "        capicuas.append(numero)\n",
      "        \n",
      "        "
     ],
     "language": "python",
     "metadata": {},
     "outputs": [],
     "prompt_number": 3
    },
    {
     "cell_type": "heading",
     "level": 3,
     "metadata": {},
     "source": [
      "Lista de Capic\u00faas"
     ]
    },
    {
     "cell_type": "code",
     "collapsed": false,
     "input": [
      "print \"El n\u00famero de capic\u00faas es\", len(capicuas)\n",
      "print capicuas "
     ],
     "language": "python",
     "metadata": {},
     "outputs": [
      {
       "output_type": "stream",
       "stream": "stdout",
       "text": [
        "El n\u00famero de capic\u00faas es 90\n",
        "['101', '111', '121', '131', '141', '151', '161', '171', '181', '191', '202', '212', '222', '232', '242', '252', '262', '272', '282', '292', '303', '313', '323', '333', '343', '353', '363', '373', '383', '393', '404', '414', '424', '434', '444', '454', '464', '474', '484', '494', '505', '515', '525', '535', '545', '555', '565', '575', '585', '595', '606', '616', '626', '636', '646', '656', '666', '676', '686', '696', '707', '717', '727', '737', '747', '757', '767', '777', '787', '797', '808', '818', '828', '838', '848', '858', '868', '878', '888', '898', '909', '919', '929', '939', '949', '959', '969', '979', '989', '999']\n"
       ]
      }
     ],
     "prompt_number": 4
    },
    {
     "cell_type": "heading",
     "level": 3,
     "metadata": {},
     "source": [
      "Capicuas en Binario"
     ]
    },
    {
     "cell_type": "code",
     "collapsed": false,
     "input": [
      "capicuasbin = []\n",
      "for i in range(len(capicuas)):\n",
      "    numero = int(capicuas[i])\n",
      "    numerobin = \"{0:b}\".format(numero)\n",
      "    condicion = True\n",
      "    for l in range(len(numerobin)):\n",
      "        if numerobin[l] != numerobin[len(numerobin)-(l+1)]:\n",
      "            condicion = False     \n",
      "        \n",
      "    if condicion:\n",
      "        capicuas.append(numero + \" = \" + numerobin)\n",
      "if len(capicuasbin) == 0:\n",
      "    print \"Ningun capicua de nueve digitos tambien es un capicua en binario\"\n",
      "else:\n",
      "    print \"El n\u00famero de capic\u00faas que tambien es capicua en binario es\", len(capicuasbin)\n",
      "    print capicuasbin\n",
      "\n",
      "    "
     ],
     "language": "python",
     "metadata": {},
     "outputs": [],
     "prompt_number": 10
    },
    {
     "cell_type": "heading",
     "level": 3,
     "metadata": {},
     "source": [
      "Texto pal\u00edndromo"
     ]
    },
    {
     "cell_type": "markdown",
     "metadata": {},
     "source": [
      "El palindromo debe estar en un archivo llamado pal\u00edndromo.txt en la misma carpeta de cal_capicuas.ipynb"
     ]
    },
    {
     "cell_type": "code",
     "collapsed": false,
     "input": [
      "textoprocesado = \"\"\n",
      "with open (\"palindromo.txt\", \"r\") as myfile:\n",
      "    texto=myfile.read().replace('\\n', '')\n",
      "    \n",
      "texto = unicode(texto, \"utf-8\")\n",
      "unicodedata.normalize('NFKD', texto).encode('ascii','ignore')\n",
      "\n",
      "    \n",
      "#Se remueven caracteres no alfanumericos que no se incluyen dentro de caracteres probables\n",
      "if texto.isalnum() != True:\n",
      "    for i in range(len(texto)):\n",
      "        charac = texto[i]\n",
      "        if charac.isalnum() == True:\n",
      "            textoprocesado = textoprocesado + charac\n",
      "\n",
      "\n",
      "#Se eliminan los espacios\n",
      "textoprocesado = textoprocesado.lower()\n",
      "           \n",
      "       \n",
      "\n",
      "\n",
      "#Remocion de tildes\n",
      "def elimina_tildes(s):\n",
      "   return ''.join((c for c in unicodedata.normalize('NFD', s) if unicodedata.category(c) != 'Mn'))\n",
      "\n",
      "textoprocesado = elimina_tildes(textoprocesado)\n",
      " \n",
      "\n",
      "\n",
      "   \n",
      "    \n",
      "condicion = True    \n",
      "for l in range(len(textoprocesado)):\n",
      "    if textoprocesado[l] != textoprocesado[len(textoprocesado)-(l+1)]:\n",
      "        condicion = False\n",
      "\n",
      "if condicion:\n",
      "    print \"El texto es un palindromo\"\n",
      "else:\n",
      "    print \"El texto no es un palindromo\"\n",
      "\n"
     ],
     "language": "python",
     "metadata": {},
     "outputs": [
      {
       "output_type": "stream",
       "stream": "stdout",
       "text": [
        "El texto es un palindromo\n"
       ]
      }
     ],
     "prompt_number": 6
    }
   ],
   "metadata": {}
  }
 ]
}