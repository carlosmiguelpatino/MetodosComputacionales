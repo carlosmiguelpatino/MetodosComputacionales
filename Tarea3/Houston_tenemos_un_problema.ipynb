{
 "metadata": {
  "name": "",
  "signature": "sha256:69fb3af3d63e2e5b2f0f464c4d14d7c7156af681748c6409bc6ab3818a5eab16"
 },
 "nbformat": 3,
 "nbformat_minor": 0,
 "worksheets": [
  {
   "cells": [
    {
     "cell_type": "code",
     "collapsed": false,
     "input": [
      "%pylab inline\n",
      "import pandas as pd\n",
      "import matplotlib.pyplot as plt"
     ],
     "language": "python",
     "metadata": {},
     "outputs": [
      {
       "output_type": "stream",
       "stream": "stdout",
       "text": [
        "Populating the interactive namespace from numpy and matplotlib\n"
       ]
      }
     ],
     "prompt_number": 86
    },
    {
     "cell_type": "code",
     "collapsed": false,
     "input": [
      "#Importar datos del archivo\n",
      "HoustonData = pd.read_excel(\"Houston-security.xls\",\"rptPublicAffairs\")\n"
     ],
     "language": "python",
     "metadata": {},
     "outputs": [],
     "prompt_number": 61
    },
    {
     "cell_type": "code",
     "collapsed": false,
     "input": [
      "#Seleccionar delito\n",
      "AggravatedAssault = HoustonData.loc[HoustonData['Offense Type'] == 'Aggravated Assault']\n",
      "#Ordenar horas por frecuencia\n",
      "horas = AggravatedAssault['Hour'].value_counts()\n",
      "print horas"
     ],
     "language": "python",
     "metadata": {},
     "outputs": [
      {
       "output_type": "stream",
       "stream": "stdout",
       "text": [
        "21    73\n",
        "22    62\n",
        "20    62\n",
        "19    56\n",
        "16    48\n",
        "23    45\n",
        "1     45\n",
        "2     44\n",
        "18    42\n",
        "0     41\n",
        "15    41\n",
        "14    40\n",
        "17    40\n",
        "12    38\n",
        "13    34\n",
        "3     32\n",
        "9     30\n",
        "11    30\n",
        "4     24\n",
        "10    23\n",
        "8     22\n",
        "5     17\n",
        "7     13\n",
        "6     13\n",
        "dtype: int64\n"
       ]
      }
     ],
     "prompt_number": 81
    },
    {
     "cell_type": "heading",
     "level": 3,
     "metadata": {},
     "source": [
      "Se puede observar que la hora mas segura para salir es a las 6 de la ma\u00f1ana"
     ]
    },
    {
     "cell_type": "code",
     "collapsed": false,
     "input": [
      "print HoustonData['Offense Type'].value_counts()\n"
     ],
     "language": "python",
     "metadata": {},
     "outputs": [
      {
       "output_type": "stream",
       "stream": "stdout",
       "text": [
        "Theft                 5692\n",
        "Burglary              1902\n",
        "Auto Theft            1100\n",
        "Aggravated Assault     915\n",
        "Robbery                817\n",
        "Rape                    73\n",
        "Murder                  14\n",
        "dtype: int64\n"
       ]
      }
     ],
     "prompt_number": 82
    },
    {
     "cell_type": "code",
     "collapsed": false,
     "input": [
      "#Theft histogram\n",
      "Theft = HoustonData.loc[HoustonData['Offense Type'] == 'Theft']\n",
      "Theft.Hour.hist()\n",
      "plt.title(\"Theft Hour Frequency\")"
     ],
     "language": "python",
     "metadata": {},
     "outputs": [
      {
       "metadata": {},
       "output_type": "pyout",
       "prompt_number": 100,
       "text": [
        "<matplotlib.text.Text at 0xae0d86ec>"
       ]
      },
      {
       "metadata": {},
       "output_type": "display_data",
       "png": "[encoded data removed]",
       "text": [
        "<matplotlib.figure.Figure at 0xae0e848c>"
       ]
      }
     ],
     "prompt_number": 100
    },
    {
     "cell_type": "code",
     "collapsed": false,
     "input": [
      "#Burglary histogram\n",
      "plt.subplot(221)\n",
      "Burglary = HoustonData.loc[HoustonData['Offense Type'] == 'Burglary']\n",
      "Burglary.Hour.hist()"
     ],
     "language": "python",
     "metadata": {},
     "outputs": []
    },
    {
     "cell_type": "code",
     "collapsed": false,
     "input": [
      "#Auto Theft histogram\n",
      "plt.subplot(221)\n",
      "ATheft = HoustonData.loc[HoustonData['Offense Type'] == 'Auto Theft']\n",
      "ATheft.Hour.hist()"
     ],
     "language": "python",
     "metadata": {},
     "outputs": []
    },
    {
     "cell_type": "code",
     "collapsed": false,
     "input": [
      "#Aggravated Assault\n",
      "plt.subplot(221)\n",
      "AAssault = HoustonData.loc[HoustonData['Offense Type'] == 'Aggravated Assault']\n",
      "AAssault.Hour.hist()\n",
      "\n"
     ],
     "language": "python",
     "metadata": {},
     "outputs": []
    },
    {
     "cell_type": "code",
     "collapsed": false,
     "input": [],
     "language": "python",
     "metadata": {},
     "outputs": []
    },
    {
     "cell_type": "code",
     "collapsed": false,
     "input": [],
     "language": "python",
     "metadata": {},
     "outputs": []
    },
    {
     "cell_type": "code",
     "collapsed": false,
     "input": [
      "\n"
     ],
     "language": "python",
     "metadata": {},
     "outputs": [
      {
       "metadata": {},
       "output_type": "pyout",
       "prompt_number": 70,
       "text": [
        "20    666\n",
        "18    661\n",
        "12    643\n",
        "19    608\n",
        "22    606\n",
        "21    602\n",
        "17    577\n",
        "0     535\n",
        "15    530\n",
        "16    514\n",
        "14    500\n",
        "13    467\n",
        "10    461\n",
        "23    455\n",
        "11    412\n",
        "9     384\n",
        "8     364\n",
        "7     294\n",
        "2     271\n",
        "1     266\n",
        "6     196\n",
        "3     193\n",
        "5     168\n",
        "4     140\n",
        "dtype: int64"
       ]
      }
     ],
     "prompt_number": 70
    }
   ],
   "metadata": {}
  }
 ]
}