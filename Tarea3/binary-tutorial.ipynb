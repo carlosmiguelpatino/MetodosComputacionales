{
 "metadata": {
  "name": "",
  "signature": "sha256:05d1441d8f282dc5e75087d13665fc253aecbeb93a6f1fd0d63f785061af565f"
 },
 "nbformat": 3,
 "nbformat_minor": 0,
 "worksheets": [
  {
   "cells": [
    {
     "cell_type": "heading",
     "level": 1,
     "metadata": {},
     "source": [
      "Leer y escribir archivos en binario"
     ]
    },
    {
     "cell_type": "markdown",
     "metadata": {},
     "source": [
      "En primer lugar se debe importar la libreria binascii para hacer las conversiones de caracteres legibles a binario y visceversa"
     ]
    },
    {
     "cell_type": "code",
     "collapsed": false,
     "input": [
      "import binascii as ba"
     ],
     "language": "python",
     "metadata": {},
     "outputs": [],
     "prompt_number": 30
    },
    {
     "cell_type": "heading",
     "level": 2,
     "metadata": {},
     "source": [
      "Escribir archivo en binario"
     ]
    },
    {
     "cell_type": "markdown",
     "metadata": {},
     "source": [
      "Para abrir un archivo en binario se debe usar la funci\u00f3n with y open(). El archivo debe tener la extensi\u00f3n .bin. El segundo argumento en open(), es decir 'wb' (write binary) indica que el archivo que se est\u00e1 abriendo es para escribir en \u00e9ste. La variable archivobin es donde se va a almacenar toda la informaci\u0144 que contiene el archivo"
     ]
    },
    {
     "cell_type": "code",
     "collapsed": false,
     "input": [
      "with open('miarchivo.bin', 'wb') as archivobin:\n",
      "    string = 'Hola Mundo'\n",
      "    #Conversion a binario\n",
      "    stringbin = bin(int(ba.hexlify(string), 16))\n",
      "    archivobin.write(stringbin)\n",
      "    \n",
      "print stringbin\n",
      "    "
     ],
     "language": "python",
     "metadata": {},
     "outputs": [
      {
       "output_type": "stream",
       "stream": "stdout",
       "text": [
        "0b1001000011011110110110001100001001000000100110101110101011011100110010001101111\n"
       ]
      }
     ],
     "prompt_number": 40
    },
    {
     "cell_type": "markdown",
     "metadata": {},
     "source": [
      "Para convertir un string en binario es necesario primero convertirlo en formato hexagesimal. Esto se logra con la funci\u00f3n hexlify() del paquete binascii. Posteriormente, el string en sistema hexagesimal se convierte a un entero en base 2. Esto se logra con la funci\u00f3n incorporada en python int(). Finalmente para dejar el string inicial en formato binario se usa la funci\u00f3n bin(). Al imprimir el string en binario se puede observar que el formato es en efecto binario. "
     ]
    },
    {
     "cell_type": "heading",
     "level": 2,
     "metadata": {},
     "source": [
      "Leer archivo en binario"
     ]
    },
    {
     "cell_type": "markdown",
     "metadata": {},
     "source": [
      "Para leer un archivo en binario se empieza con un proceso similar. El cambio en esta ocasi\u00f3n es que en la funci\u00f3n open se debe reemplazar 'wb' por 'rb' (read binary). "
     ]
    },
    {
     "cell_type": "code",
     "collapsed": false,
     "input": [
      "with open('miarchivo.bin', 'rb') as archivobin:\n",
      "    datosbin = archivobin.read()\n",
      "    datosbin = int(datosbin, 2)\n",
      "    datos = ba.unhexlify('%x' % datosbin)\n",
      "    \n",
      "print datos\n",
      "    "
     ],
     "language": "python",
     "metadata": {},
     "outputs": [
      {
       "output_type": "stream",
       "stream": "stdout",
       "text": [
        "Hola Mundo\n"
       ]
      }
     ],
     "prompt_number": 45
    },
    {
     "cell_type": "markdown",
     "metadata": {},
     "source": [
      "Para hacer la conversi\u00f3n de vuelta a ascii se sigue el proceso inverso al que se sigui\u00f3 para convertir los datos a formato binario. En primer lugar, se deben leer los datos en el archivo usando la funci\u00f3n read(). Posteriormente, los datos, que est\u00e1n en formato binario, se convierten en un entero de base 2 con la funci\u00f3n int(). Finalmente, se convierte el string en hexagesimal a ascii usando la funci\u00f3n unhexlify() del paquete binascii. Se puede ver que cuando se imprime la variable datos, corresponde a lo escrito en el archivo inicialmente."
     ]
    }
   ],
   "metadata": {}
  }
 ]
}